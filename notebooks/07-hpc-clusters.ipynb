{
 "cells": [
  {
   "cell_type": "markdown",
   "metadata": {},
   "source": [
    "# Two cluster demos\n",
    "\n",
    "You may want to check out this Youtube video that features these demos:\n",
    "\n",
    "https://www.youtube.com/watch?v=uGy5gT2vLdI\n",
    "\n",
    "## Some initial prep work"
   ]
  },
  {
   "cell_type": "markdown",
   "metadata": {},
   "source": [
    "### Log into cluster\n",
    "\n",
    "E.g.,\n",
    "```\n",
    "ssh $USER@graham.computecanada.ca\n",
    "```"
   ]
  },
  {
   "cell_type": "markdown",
   "metadata": {},
   "source": [
    "### Make a working directory\n",
    "\n",
    "```\n",
    "cd $SCRATCH\n",
    "mkdir dask-cluster-examples\n",
    "cd dask-cluster-examples\n",
    "```"
   ]
  },
  {
   "cell_type": "markdown",
   "metadata": {},
   "source": [
    "### Grab demo files"
   ]
  },
  {
   "cell_type": "markdown",
   "metadata": {},
   "source": [
    "```\n",
    "wget https://raw.githubusercontent.com/ualberta-rcg/python-dask/master/cluster-examples/dask-workers-via-slurm.ipynb\n",
    "wget https://raw.githubusercontent.com/ualberta-rcg/python-dask/master/cluster-examples/run-dask.py\n",
    "wget https://raw.githubusercontent.com/ualberta-rcg/python-dask/master/cluster-examples/run-dask-submit.sh\n",
    "```"
   ]
  },
  {
   "cell_type": "markdown",
   "metadata": {},
   "source": [
    "### Create a python virtual environment"
   ]
  },
  {
   "cell_type": "markdown",
   "metadata": {},
   "source": [
    "```\n",
    "module load python/3.7\n",
    "virtualenv --no-download ~/virtualenv/dask\n",
    "source ~/virtualenv/dask/bin/activate\n",
    "pip install jupyter dask dask-jobqueue distributed\n",
    "pip install graphviz bokeh\n",
    "```"
   ]
  },
  {
   "cell_type": "markdown",
   "metadata": {},
   "source": [
    "## Example 1: Jupyter notebook\n",
    "\n",
    "We follow the advice on this page: https://docs.computecanada.ca/wiki/Jupyter"
   ]
  },
  {
   "cell_type": "markdown",
   "metadata": {},
   "source": [
    "### Tunneling\n",
    "\n",
    "Tunneling will allow the browser on your computer to access the Jupyter notebooks and Dask dashboard running on a cluster node.\n",
    "\n",
    "First, in a separate terminal open a tunnel from your laptop/computer to the cluster, E.g.,\n",
    "\n",
    "```\n",
    "sshuttle --dns -Nr $USER@graham.computecanada.ca\n",
    "```\n",
    "\n",
    "If you are on windows, `sshuttle` probably won't work, so check the Jupyter documentation above for alternatives."
   ]
  },
  {
   "cell_type": "markdown",
   "metadata": {},
   "source": [
    "### Provisioning a node to run a notebook on\n",
    "\n",
    "**NOTE**: you will need to modify the account listed below for your own project.\n",
    "\n",
    "We use the SLURM scheduler to get an interactive node to run Jupyter on:\n",
    "\n",
    "```\n",
    "salloc --account=cc-debug --nodes=1\n",
    "```"
   ]
  },
  {
   "cell_type": "markdown",
   "metadata": {},
   "source": [
    "### Running Jupyter\n",
    "\n",
    "Once we have a prompt on the interactive node, we can run the notebook server:\n",
    "\n",
    "```\n",
    "cd $SCRATCH/dask-cluster-examples\n",
    "source ~/virtualenv/dask/bin/activate\n",
    "jupyter-notebook --ip `hostname -f` --no-browser &\n",
    "```\n",
    "\n",
    "This will tell us the address to use in our browser to access the notebooks, e.g.,\n",
    "\n",
    "`http://gra284.graham.sharcnet:8888/?token=924667fa08c3baefa62c29e10d8c8fedcf70406b88a06177`"
   ]
  },
  {
   "cell_type": "markdown",
   "metadata": {},
   "source": [
    "## Run the example\n",
    "\n",
    "We can now run the example `dask-workers-via-slurm.ipynb` and follow the instructions there."
   ]
  },
  {
   "cell_type": "markdown",
   "metadata": {},
   "source": [
    "## Example 2: Running a python script via SLURM"
   ]
  },
  {
   "cell_type": "markdown",
   "metadata": {},
   "source": [
    "We simply go to the example directory and submit a job directly.\n",
    "You will want to modify the `run-dask-submit.sh` SLURM script to get the accounting group right.\n",
    "\n",
    "```\n",
    "cd $SCRATCH/dask-cluster-examples\n",
    "sbatch run-dask-submit.py\n",
    "```\n",
    "\n",
    "This will set up the Dask network using commandline tools and run the script `run-dask.py` with python. The code executed is very similar to the Jupyter example."
   ]
  }
 ],
 "metadata": {
  "kernelspec": {
   "display_name": "Python 3 (ipykernel)",
   "language": "python",
   "name": "python3"
  },
  "language_info": {
   "codemirror_mode": {
    "name": "ipython",
    "version": 3
   },
   "file_extension": ".py",
   "mimetype": "text/x-python",
   "name": "python",
   "nbconvert_exporter": "python",
   "pygments_lexer": "ipython3",
   "version": "3.9.7"
  }
 },
 "nbformat": 4,
 "nbformat_minor": 2
}
